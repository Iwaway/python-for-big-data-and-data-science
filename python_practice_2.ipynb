{
  "nbformat": 4,
  "nbformat_minor": 0,
  "metadata": {
    "colab": {
      "provenance": []
    },
    "kernelspec": {
      "name": "python3",
      "display_name": "Python 3"
    },
    "language_info": {
      "name": "python"
    }
  },
  "cells": [
    {
      "cell_type": "markdown",
      "source": [
        "# I. Змінні та памʼять."
      ],
      "metadata": {
        "id": "p9wwt0LZzNvn"
      }
    },
    {
      "cell_type": "markdown",
      "source": [
        "1. Створити змінні, що посилаються на два цілих числа, що однакові за значенням, де значення належить проміжку від -5 до 256. Перевірте, чи будуть ці змінні рівні тільки за значенням або ж ще будуть посилатися на один і той самий обʼєкт в памʼяті? Наведіть код та дайте текстову відповідь нижче."
      ],
      "metadata": {
        "id": "HTJrrm95xSV9"
      }
    },
    {
      "cell_type": "code",
      "execution_count": 5,
      "metadata": {
        "id": "TATni2vzayjG",
        "colab": {
          "base_uri": "https://localhost:8080/"
        },
        "outputId": "9ebdc7eb-e269-441b-e7e8-802ad34cb1c4"
      },
      "outputs": [
        {
          "output_type": "stream",
          "name": "stdout",
          "text": [
            "True\n"
          ]
        }
      ],
      "source": [
        "a = 128\n",
        "b = 128\n",
        "\n",
        "print(a is b)"
      ]
    },
    {
      "cell_type": "markdown",
      "source": [
        " І. Текстова відповідь.\n",
        "\n",
        " Python кешує цілі числа в діапазоні від -5 до 256.\n",
        " Це означає, що для кожного числа в цьому діапазоні в пам’яті створюється лише один об’єкт.\n",
        " Отже, якщо дві змінні містять одне ціле число в цьому діапазоні, вони вказують на  той самий об’єкт у пам’яті."
      ],
      "metadata": {
        "id": "zfRG_o3WbRdg"
      }
    },
    {
      "cell_type": "markdown",
      "source": [
        "2. За допомогою якої функції можна перевірити належність змінної до вказаного типу даних (напр. чи змінна True посилається на значення булевого та цілочисленого типу)?"
      ],
      "metadata": {
        "id": "ISORzt6M3vAt"
      }
    },
    {
      "cell_type": "code",
      "source": [
        "a = True\n",
        "\n",
        "print(\"Is variable a is Boolean: \" + str(isinstance(a, bool)))\n",
        "print(\"Is variable a is Integer: \" + str(isinstance(a, int)))"
      ],
      "metadata": {
        "id": "9vL9CFaMbfyo",
        "colab": {
          "base_uri": "https://localhost:8080/"
        },
        "outputId": "a404daab-96e7-4819-cb2d-f8f78161c4e6"
      },
      "execution_count": 20,
      "outputs": [
        {
          "output_type": "stream",
          "name": "stdout",
          "text": [
            "Is variable a is Boolean: True\n",
            "Is variable a is Integer: True\n"
          ]
        }
      ]
    },
    {
      "cell_type": "markdown",
      "source": [
        "# II. Цілі числа та числа з рухомою комою"
      ],
      "metadata": {
        "id": "tRxugKAxwYLw"
      }
    },
    {
      "cell_type": "markdown",
      "source": [
        "3. Створити дві змінні, що посилаються на будь-які ціле число та число з рухомою комою та продемонструвати такі арифметичні операції: додавання, віднімання, ділення, множення, ділення без залишку, ділення по модулю, приведення до ступеню. Всі результати операцій вивести на екран."
      ],
      "metadata": {
        "id": "NLHkgd5Gybc8"
      }
    },
    {
      "cell_type": "code",
      "source": [
        "int_a = 7\n",
        "float_a = 3.5\n",
        "\n",
        "print(\"Додавання:\")\n",
        "print(int_a + float_a)\n",
        "\n",
        "print(\"\\nВіднімання:\")\n",
        "print(int_a - float_a)\n",
        "\n",
        "print(\"\\nДілення:\")\n",
        "print(int_a / float_a)\n",
        "\n",
        "print(\"\\nМноження:\")\n",
        "print(int_a * float_a)\n",
        "\n",
        "print(\"\\nДілення без залишку:\")\n",
        "print(int_a // float_a)\n",
        "\n",
        "print(\"\\nДілення по модулю:\")\n",
        "print(int_a % float_a)\n",
        "\n",
        "print(\"\\nПриведення до ступеню:\")\n",
        "print(round(int_a ** float_a, 2))"
      ],
      "metadata": {
        "id": "nb8u_3pjb2cA",
        "colab": {
          "base_uri": "https://localhost:8080/"
        },
        "outputId": "518571d6-ed28-4388-cc56-ff3c6291d716"
      },
      "execution_count": 26,
      "outputs": [
        {
          "output_type": "stream",
          "name": "stdout",
          "text": [
            "Додавання:\n",
            "10.5\n",
            "\n",
            "Віднімання:\n",
            "3.5\n",
            "\n",
            "Ділення:\n",
            "2.0\n",
            "\n",
            "Множення:\n",
            "24.5\n",
            "\n",
            "Ділення без залишку:\n",
            "2.0\n",
            "\n",
            "Ділення по модулю:\n",
            "0.0\n",
            "\n",
            "Приведення до ступеню:\n",
            "907.49\n"
          ]
        }
      ]
    },
    {
      "cell_type": "markdown",
      "source": [
        "4. Використовуючи змінні з вправи 3, продемонструйте механізм явного перетворення типів, де числа з рухомою комою перетворюються на цілі числа. Також визначте змінну, що посилається на значення булевого типу і спробуйте явно привести її до цілого числа."
      ],
      "metadata": {
        "id": "1kBClKgPzZnC"
      }
    },
    {
      "cell_type": "code",
      "source": [
        "print(\"Float a = 3.5 to int: \")\n",
        "print(int(float_a))\n",
        "\n",
        "bool_a = True\n",
        "print(\"\\nBoolean a = True to int: \")\n",
        "print(int(bool_a))"
      ],
      "metadata": {
        "id": "TbqJbkeUcKsD",
        "colab": {
          "base_uri": "https://localhost:8080/"
        },
        "outputId": "435e3703-d1d5-4375-8b9d-8156551ab743"
      },
      "execution_count": 31,
      "outputs": [
        {
          "output_type": "stream",
          "name": "stdout",
          "text": [
            "Float a = 3.5 to int: \n",
            "3\n",
            "\n",
            "Boolean a = True to int: \n",
            "1\n"
          ]
        }
      ]
    },
    {
      "cell_type": "markdown",
      "source": [
        "# IІІ. Рядки (String)."
      ],
      "metadata": {
        "id": "EVJ7AflwxrZi"
      }
    },
    {
      "cell_type": "markdown",
      "source": [
        "5. Створити пустий рядок двома різними способами."
      ],
      "metadata": {
        "id": "_s5ECzz9zE61"
      }
    },
    {
      "cell_type": "code",
      "source": [
        "a = \"\"\n",
        "b = str()"
      ],
      "metadata": {
        "id": "fkZJHu9Scvc-"
      },
      "execution_count": 32,
      "outputs": []
    },
    {
      "cell_type": "markdown",
      "source": [
        "6. Створити рядок з апострофом. Зробити його сирим. Вивести обидва рядка на екран."
      ],
      "metadata": {
        "id": "4Bdn9J3MzLf_"
      }
    },
    {
      "cell_type": "code",
      "source": [
        "a = \"'\"\n",
        "b = r'{}'.format(a)\n",
        "\n",
        "print(a)\n",
        "print(b)"
      ],
      "metadata": {
        "id": "ivji_hsmc0GH",
        "colab": {
          "base_uri": "https://localhost:8080/"
        },
        "outputId": "daad0eb1-06ed-41df-cd8b-628445a780bf"
      },
      "execution_count": 38,
      "outputs": [
        {
          "output_type": "stream",
          "name": "stdout",
          "text": [
            "'\n",
            "'\n"
          ]
        }
      ]
    },
    {
      "cell_type": "markdown",
      "source": [
        "7. Створити змінну, що буде посилатися на Ваше прізвище латинкою. Створити форматований рядок, який буде мати вигляд \"My surname is ______\", де на місці нижніх підкреслень буде Ваше прізвище зі змінної."
      ],
      "metadata": {
        "id": "bg_d8wM4z8dS"
      }
    },
    {
      "cell_type": "code",
      "source": [
        "surname = \"Bilokin\"\n",
        "\n",
        "info = f\"My surname is {surname}\"\n",
        "\n",
        "print(info)\n"
      ],
      "metadata": {
        "id": "kuxFgpWndACq",
        "colab": {
          "base_uri": "https://localhost:8080/"
        },
        "outputId": "e0b6f731-5d9c-4e23-dda9-9ed4095db177"
      },
      "execution_count": 39,
      "outputs": [
        {
          "output_type": "stream",
          "name": "stdout",
          "text": [
            "My surname is Bilokin\n"
          ]
        }
      ]
    },
    {
      "cell_type": "markdown",
      "source": [
        "8. Маючи рядок \"My dog is crazy.\" перетворити його на список [\"my\", \"dog\", \"is\", \"crazy\"]"
      ],
      "metadata": {
        "id": "1Nc6RqvQ0hxU"
      }
    },
    {
      "cell_type": "code",
      "source": [
        "a = \"My dog is crazy\"\n",
        "list_a = a.lower().split()\n",
        "\n",
        "print(list_a)"
      ],
      "metadata": {
        "id": "w1Ya4RqedUhw",
        "colab": {
          "base_uri": "https://localhost:8080/"
        },
        "outputId": "cde6023d-3fff-4f8c-fa3a-2ece225fc233"
      },
      "execution_count": 49,
      "outputs": [
        {
          "output_type": "stream",
          "name": "stdout",
          "text": [
            "['my', 'dog', 'is', 'crazy']\n"
          ]
        }
      ]
    },
    {
      "cell_type": "markdown",
      "source": [
        "# IV. Робота зі списками."
      ],
      "metadata": {
        "id": "GYVqN9uP1D4n"
      }
    },
    {
      "cell_type": "markdown",
      "source": [
        "9. Створити список двома різними за синтаксисом способами. За допомогою вбудованої функції обчисліть довжину одного з них."
      ],
      "metadata": {
        "id": "7-DeDunw2sO-"
      }
    },
    {
      "cell_type": "code",
      "source": [
        "print(\"List A:\")\n",
        "list_a = [10,11,12,13,14]\n",
        "len_a = len(list_a)\n",
        "print(list_a)\n",
        "print(len_a)\n",
        "\n",
        "print(\"\\nList B:\")\n",
        "list_b = list(range(10))\n",
        "len_b = len(list_b)\n",
        "print(list_b)\n",
        "print(len_b)"
      ],
      "metadata": {
        "id": "zxg06Uuxdyoh",
        "colab": {
          "base_uri": "https://localhost:8080/"
        },
        "outputId": "f28d83e0-5be4-4609-d046-c24a14e0a843"
      },
      "execution_count": 59,
      "outputs": [
        {
          "output_type": "stream",
          "name": "stdout",
          "text": [
            "List A:\n",
            "[10, 11, 12, 13, 14]\n",
            "5\n",
            "\n",
            "List B:\n",
            "[0, 1, 2, 3, 4, 5, 6, 7, 8, 9]\n",
            "10\n"
          ]
        }
      ]
    },
    {
      "cell_type": "markdown",
      "source": [
        "10. Створіть два списка та за допомогою спеціального методу додайте другий з них в якості останнього елемента першого."
      ],
      "metadata": {
        "id": "8vmGUTjL22gI"
      }
    },
    {
      "cell_type": "code",
      "source": [
        "list_a = list(range(10))\n",
        "list_b = [10,11,12,13,14]\n",
        "list_a.extend(list_b)\n",
        "\n",
        "print(list_a)"
      ],
      "metadata": {
        "id": "uHtjWYw7d7hm",
        "colab": {
          "base_uri": "https://localhost:8080/"
        },
        "outputId": "ed6af74c-94e3-4970-a0fc-099be5368156"
      },
      "execution_count": 62,
      "outputs": [
        {
          "output_type": "stream",
          "name": "stdout",
          "text": [
            "[0, 1, 2, 3, 4, 5, 6, 7, 8, 9, 10, 11, 12, 13, 14]\n"
          ]
        }
      ]
    },
    {
      "cell_type": "markdown",
      "source": [
        "11. Створіть список, де елементами цього списку також є списки. Отримай перший елемент з останнього рядка та виведи значення на екран."
      ],
      "metadata": {
        "id": "JC3BkD-67_--"
      }
    },
    {
      "cell_type": "code",
      "source": [
        "list_ab = [[1, 2, 3], [4, 5, 6], [7, 8, 9]]\n",
        "\n",
        "x = list_ab[-1][0]\n",
        "\n",
        "print(x)"
      ],
      "metadata": {
        "id": "Kz2jZHsGeLlz",
        "colab": {
          "base_uri": "https://localhost:8080/"
        },
        "outputId": "8fb26182-1de8-4cfc-e921-848a81c04b99"
      },
      "execution_count": 64,
      "outputs": [
        {
          "output_type": "stream",
          "name": "stdout",
          "text": [
            "7\n"
          ]
        }
      ]
    },
    {
      "cell_type": "markdown",
      "source": [
        "12. Створіть список з десяти елементів різного типу. Отримайте всі елементи, окрім двох перших та двох останніх та збережіть їх в новій змінній."
      ],
      "metadata": {
        "id": "JA47PKTv8zFK"
      }
    },
    {
      "cell_type": "code",
      "source": [
        "list_a = [1, 2.0, 'three', False, None, (4, 5), ['six', 7], {'eight': 8}, {9, 10}, \"last\"]\n",
        "\n",
        "list_b = list_a[2:-2]\n",
        "\n",
        "print(list_b)"
      ],
      "metadata": {
        "id": "_rHdUR-ueP4-",
        "colab": {
          "base_uri": "https://localhost:8080/"
        },
        "outputId": "4515241c-dfdd-4780-eb95-c197d475828d"
      },
      "execution_count": 65,
      "outputs": [
        {
          "output_type": "stream",
          "name": "stdout",
          "text": [
            "['three', False, None, (4, 5), ['six', 7], {'eight': 8}]\n"
          ]
        }
      ]
    },
    {
      "cell_type": "markdown",
      "source": [
        "# V. Робота з кортежами."
      ],
      "metadata": {
        "id": "pCjR1dJb1Qbi"
      }
    },
    {
      "cell_type": "markdown",
      "source": [
        "14. Створити кортеж з один елементом."
      ],
      "metadata": {
        "id": "fAZCxAX06R_k"
      }
    },
    {
      "cell_type": "code",
      "source": [
        "tuple_a = (42,)\n",
        "\n",
        "print(tuple_a)"
      ],
      "metadata": {
        "id": "H7d82WkQev3e",
        "colab": {
          "base_uri": "https://localhost:8080/"
        },
        "outputId": "bda9d685-49ee-403d-9833-eea302add33b"
      },
      "execution_count": 66,
      "outputs": [
        {
          "output_type": "stream",
          "name": "stdout",
          "text": [
            "(42,)\n"
          ]
        }
      ]
    },
    {
      "cell_type": "markdown",
      "source": [
        "15. Порівняйте список та кортеж. Назвіть схожості та відмінності, випадки використання."
      ],
      "metadata": {
        "id": "8LCtYcmI6w1M"
      }
    },
    {
      "cell_type": "markdown",
      "source": [
        "Список та кортеж - це основні вбудовані типи даних в Python, які використовуються для зберігання колекції елементів.\n",
        "\n",
        "**Схожість**\n",
        "1.   Індексація.\n",
        "2.   Ітерація.\n",
        "3.   Зберігання декількох елементів.\n",
        "\n",
        "**Відмінності**\n",
        "\n",
        "Список.\n",
        "1.   Списки можна змінювати, тоді як кортежі не можна змінювати після створення.\n",
        "2.   Синтаксис.\n",
        "3.   Швидкість.\n",
        "\n",
        "**Випадки використання**\n",
        "\n",
        "Сталий набір елементів - кортеж, змінюваний - список.\n",
        "\n",
        "\n"
      ],
      "metadata": {
        "id": "fUsN1Hnue0C6"
      }
    },
    {
      "cell_type": "markdown",
      "source": [
        "16. Створіть кортеж з 11ти елементів чисел з рухомою комою та отримайте кожен парний за індексом елемент в зворотньому порядку. Наприклад, маючи (1.2, 2.3, 3.3, 4.3, 5.3, 6.3, 7.3, 8.3, 9.3, 0.3), отримати (0.3, 8.3, 6.3, 4.3, 2.3). Результат збережіть в нову змінну та виведіть на екран."
      ],
      "metadata": {
        "id": "m0xrwFijAmDD"
      }
    },
    {
      "cell_type": "code",
      "source": [
        "tuple_a = (1.1, 2.2, 3.3, 4.4, 5.5, 6.6, 7.7, 8.8, 9.9, 0.0,)\n",
        "tuple_b = tuple_a[::-2]\n",
        "\n",
        "print(tuple_b)"
      ],
      "metadata": {
        "id": "p-5DAH6XfAGA",
        "colab": {
          "base_uri": "https://localhost:8080/"
        },
        "outputId": "acbf6bd1-9b92-406d-e854-30845d8a40a6"
      },
      "execution_count": 69,
      "outputs": [
        {
          "output_type": "stream",
          "name": "stdout",
          "text": [
            "(0.0, 8.8, 6.6, 4.4, 2.2)\n"
          ]
        }
      ]
    },
    {
      "cell_type": "markdown",
      "source": [
        "# VI. Множини (Set)."
      ],
      "metadata": {
        "id": "rW_I9dt3x6cW"
      }
    },
    {
      "cell_type": "markdown",
      "source": [
        "17. Створити множину без елементів. Після цого за допомогою методу додайте кілька різних елементів до множини. Чи множини є змінним типом даних?"
      ],
      "metadata": {
        "id": "zNjRLHLw1Bgg"
      }
    },
    {
      "cell_type": "code",
      "source": [
        "set_a = set()\n",
        "\n",
        "set_a.add(1)\n",
        "set_a.add(2)\n",
        "set_a.add(3)\n",
        "\n",
        "print(set_a)"
      ],
      "metadata": {
        "id": "KOv7zc2Kfo4N",
        "colab": {
          "base_uri": "https://localhost:8080/"
        },
        "outputId": "5f3a9f9e-0941-4b20-a6c1-e75bacc3d1df"
      },
      "execution_count": 70,
      "outputs": [
        {
          "output_type": "stream",
          "name": "stdout",
          "text": [
            "{1, 2, 3}\n"
          ]
        }
      ]
    },
    {
      "cell_type": "markdown",
      "source": [
        "У Python множини є змінним типом даних, тобто вони можуть змінюватись після створення."
      ],
      "metadata": {
        "id": "vxS6dVYiftZQ"
      }
    },
    {
      "cell_type": "markdown",
      "source": [
        "18. Створити множину, маючи список my_list = [1, 1, 2, 67, 67, 8, 9]. Пояснити, чому \"зникли\" деякі елементи."
      ],
      "metadata": {
        "id": "gHpT0Zw_1HEF"
      }
    },
    {
      "cell_type": "code",
      "source": [
        "my_list = [1, 1, 2, 67, 67, 8, 9]\n",
        "my_set = set(my_list)\n",
        "print(my_set)"
      ],
      "metadata": {
        "id": "qCN4uvJ_fxmu",
        "colab": {
          "base_uri": "https://localhost:8080/"
        },
        "outputId": "4d98d831-133a-46bc-a0bf-6ed3e0765ea1"
      },
      "execution_count": 71,
      "outputs": [
        {
          "output_type": "stream",
          "name": "stdout",
          "text": [
            "{1, 2, 67, 8, 9}\n"
          ]
        }
      ]
    },
    {
      "cell_type": "markdown",
      "source": [
        "У множині кожен елемент унікальний, тож коли я конвертую список у множину, повторювані елементи автоматично вилучаються."
      ],
      "metadata": {
        "id": "tFNc1e20fyny"
      }
    },
    {
      "cell_type": "markdown",
      "source": [
        "19. Створіть дві множини. Продемонстуйте над ними операції: обʼєднання, різниці, пересічі та симетричної різниці. Використовуйте методи, що не змінюють множини, а створюють нові."
      ],
      "metadata": {
        "id": "SRMkGizS1UwY"
      }
    },
    {
      "cell_type": "code",
      "source": [
        "set_a = {1, 2, 3, 4, 5}\n",
        "set_b = {4, 5, 6, 7, 8}\n",
        "\n",
        "union_set = set_a.union(set_b)\n",
        "print(union_set)\n",
        "\n",
        "difference_set = set_a.difference(set_b)\n",
        "print(difference_set)\n",
        "\n",
        "intersection_set = set_a.intersection(set_b)\n",
        "print(intersection_set)\n",
        "\n",
        "symmetric_difference_set = set_a.symmetric_difference(set_b)\n",
        "print(symmetric_difference_set)\n"
      ],
      "metadata": {
        "id": "h0T-VuDnf3Ri",
        "colab": {
          "base_uri": "https://localhost:8080/"
        },
        "outputId": "96ab5237-dd9b-4097-acaf-ac60fcd078e2"
      },
      "execution_count": 72,
      "outputs": [
        {
          "output_type": "stream",
          "name": "stdout",
          "text": [
            "{1, 2, 3, 4, 5, 6, 7, 8}\n",
            "{1, 2, 3}\n",
            "{4, 5}\n",
            "{1, 2, 3, 6, 7, 8}\n"
          ]
        }
      ]
    },
    {
      "cell_type": "markdown",
      "source": [
        "# VII. Словники (Dictionary)."
      ],
      "metadata": {
        "id": "kWc8gkzTx7Ea"
      }
    },
    {
      "cell_type": "markdown",
      "source": [
        "20. Створіть пустий словник. До нього додайте чотири пари елементів такі, щоб їхні ключі були різних типів. Чи може список бути ключем? Чому?"
      ],
      "metadata": {
        "id": "i5FLwj-B2ybQ"
      }
    },
    {
      "cell_type": "code",
      "source": [
        "dict_a = {}\n",
        "\n",
        "dict_a[1] = \"number\"\n",
        "dict_a[\"key\"] = \"string\"\n",
        "dict_a[(1, 2)] = \"tuple\"\n",
        "dict_a[True] = \"boolean\"\n",
        "\n",
        "print(dict_a)\n"
      ],
      "metadata": {
        "id": "hxgv3BzrgLAV",
        "colab": {
          "base_uri": "https://localhost:8080/"
        },
        "outputId": "4dbe9185-6e22-4acb-d5b0-e07df1903585"
      },
      "execution_count": 74,
      "outputs": [
        {
          "output_type": "stream",
          "name": "stdout",
          "text": [
            "{1: 'boolean', 'key': 'string', (1, 2): 'tuple'}\n"
          ]
        }
      ]
    },
    {
      "cell_type": "markdown",
      "source": [
        "Ні, список не може бути ключем у словнику, оскільки він є змінним типом даних, тобто нехешованим."
      ],
      "metadata": {
        "id": "zwa7UVN-gR3m"
      }
    },
    {
      "cell_type": "markdown",
      "source": [
        "21. Створіть словник, де значенням в одній з пар теж буде словник, який теж має вкладений словник. Виведіть на екран значення, що міститься в словнику, що знаходиться на найнижчому рівні ієрархії вкладеності (найбільш внутрішній)."
      ],
      "metadata": {
        "id": "WM_pMlJsgoNf"
      }
    },
    {
      "cell_type": "code",
      "source": [
        "dict_a = {\n",
        "    'outer': {\n",
        "        'inner': {\n",
        "            'inner_inner': 'The most inner value'\n",
        "        }\n",
        "    }\n",
        "}\n",
        "\n",
        "print(dict_a['outer']['inner']['inner_inner'])\n"
      ],
      "metadata": {
        "id": "60dlP7IHhAy4",
        "colab": {
          "base_uri": "https://localhost:8080/"
        },
        "outputId": "a8d283e3-9030-42f9-858d-e64899a8c274"
      },
      "execution_count": 79,
      "outputs": [
        {
          "output_type": "stream",
          "name": "stdout",
          "text": [
            "The most inner value\n"
          ]
        }
      ]
    },
    {
      "cell_type": "markdown",
      "source": [
        "# Вітаю! Ви велика(ий) молодець, що впоралась(вся). Похваліть себе та побалуйте чимось приємним. Я Вами пишаюся."
      ],
      "metadata": {
        "id": "xOZP0hkx6cCr"
      }
    }
  ]
}
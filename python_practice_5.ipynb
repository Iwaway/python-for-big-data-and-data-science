{
  "nbformat": 4,
  "nbformat_minor": 0,
  "metadata": {
    "colab": {
      "provenance": []
    },
    "kernelspec": {
      "name": "python3",
      "display_name": "Python 3"
    },
    "language_info": {
      "name": "python"
    }
  },
  "cells": [
    {
      "cell_type": "markdown",
      "source": [
        "# I. OOP"
      ],
      "metadata": {
        "id": "5qV_sehzFCTp"
      }
    },
    {
      "cell_type": "markdown",
      "source": [
        "1. (6б). Створіть клас Animal, додайте три атрибути, один з яких має значення за замовчуванням та два методи на свій розсуд."
      ],
      "metadata": {
        "id": "tx_U_hOALyfg"
      }
    },
    {
      "cell_type": "code",
      "source": [
        "class Animal:\n",
        "  def __init__(self, name=\"None\", species=\"undefined\", habitat=\"undefined\"):\n",
        "    self.name = name\n",
        "    self.species = species\n",
        "    self.habitat = habitat\n",
        "\n",
        "  def getName(self):\n",
        "    return self.name\n",
        "\n",
        "  def eat(self, food):\n",
        "    return self.name + \" has just eaten a delicious meal: \" + food"
      ],
      "metadata": {
        "id": "-Vf895KaL88N",
        "colab": {
          "base_uri": "https://localhost:8080/"
        },
        "outputId": "5f4d4142-cc3a-435d-f448-fe3d393444e4"
      },
      "execution_count": 3,
      "outputs": [
        {
          "output_type": "stream",
          "name": "stdout",
          "text": [
            "Busya has just eaten a delicious meal: fish\n"
          ]
        }
      ]
    },
    {
      "cell_type": "markdown",
      "source": [
        "2. (2б). Створіть два обʼєкти цього класу, де один з обʼєктів створюється із дефолтним значенням атрибуту. На одному обʼєкті отримайте значення його атрибуту, а на іншому викличте один з його методів."
      ],
      "metadata": {
        "id": "X_UlOMB0L93w"
      }
    },
    {
      "cell_type": "code",
      "source": [
        "default = Animal()\n",
        "cat = Animal(\"Busya\", \"cat\", \"terrestrial\")\n",
        "\n",
        "print(default.name)\n",
        "print(cat.eat(\"fish\"))"
      ],
      "metadata": {
        "id": "7gBu0ESOMCpG",
        "colab": {
          "base_uri": "https://localhost:8080/"
        },
        "outputId": "7c589c9a-3377-4c49-f5b3-28a18706fb91"
      },
      "execution_count": 4,
      "outputs": [
        {
          "output_type": "stream",
          "name": "stdout",
          "text": [
            "None\n",
            "Busya has just eaten a delicious meal: fish\n"
          ]
        }
      ]
    },
    {
      "cell_type": "markdown",
      "source": [
        "3. (5б). Створіть клас, де атрибути мають різні рівні доступу. Спробуйте отримати їхні значення та опишіть результати."
      ],
      "metadata": {
        "id": "HoqSCZt1MHn5"
      }
    },
    {
      "cell_type": "code",
      "source": [
        "class ClassA:\n",
        "  def __init__(self):\n",
        "    self.public = \"public\"\n",
        "    self._protected = \"protected\"\n",
        "    self.__private = \"private\"\n",
        "\n",
        "class_a = ClassA()\n",
        "\n",
        "print(class_a.public) #accessible from outside the class\n",
        "print(class_a._protected) #accessible from within the class and are also available to its sub-classes\n",
        "#print(class_a.__private) #AtributeError\n",
        "print(class_a._ClassA__private) #can be accessed from outside the class, but the practice should be refrained."
      ],
      "metadata": {
        "id": "r9b3vJxBMSPV",
        "colab": {
          "base_uri": "https://localhost:8080/"
        },
        "outputId": "90c23fb9-83d6-45da-c6bd-17d746290f97"
      },
      "execution_count": 10,
      "outputs": [
        {
          "output_type": "stream",
          "name": "stdout",
          "text": [
            "public\n",
            "protected\n",
            "private\n"
          ]
        }
      ]
    },
    {
      "cell_type": "markdown",
      "source": [
        "4. (7б). Як ви розумієте термін self? Для чого використовується метод __init __?"
      ],
      "metadata": {
        "id": "5op2m2vgMSkZ"
      }
    },
    {
      "cell_type": "markdown",
      "source": [
        "self - посилання на екземпляр класу, з якого викликається метод чи відбувається звертання до атрибуту.\n",
        "\n",
        "__init__ - метод класу, що є конструктором, який автоматично викликається при створенні об'єкта."
      ],
      "metadata": {
        "id": "DyiPqNRvMasx"
      }
    },
    {
      "cell_type": "markdown",
      "source": [
        "5. (9б). Створіть клас Фігура без атрибутів, з методом get_area для отримання площі фігури, що повертає 0 та __add __, який приймає self та other в якості аргументів, а повертає суму площин фігур self та other."
      ],
      "metadata": {
        "id": "-6X8EGfjMd2y"
      }
    },
    {
      "cell_type": "code",
      "source": [
        "class Figure:\n",
        "  def get_area(self):\n",
        "    return 0\n",
        "\n",
        "  def __add__(self, other):\n",
        "    return self.get_area() + other.get_area()"
      ],
      "metadata": {
        "id": "4rvO_wYUMaEr"
      },
      "execution_count": 11,
      "outputs": []
    },
    {
      "cell_type": "markdown",
      "source": [
        "6. (11б). Створіть 2 дочірніх класи від Фігури: Трикутник та Коло, які мають атрибути, необхідні для розрахунку площин. Визначте метод get_area в кожному з них так, щоби вони розраховували площу в залежності від формули для кожного типу фігури. Створіть обʼєкт класу Трикутник та обʼєкт класу Коло. Виконайте операцію суми за допомогою оператора + між ними."
      ],
      "metadata": {
        "id": "SFcKnnv5Mo_z"
      }
    },
    {
      "cell_type": "code",
      "source": [
        "import math\n",
        "\n",
        "class Triangle(Figure):\n",
        "  def __init__(self, base, height):\n",
        "    self.base = base\n",
        "    self.height = height\n",
        "\n",
        "  def get_area(self):\n",
        "    return 0.5 * self.base * self.height\n",
        "\n",
        "class Circle(Figure):\n",
        "  def __init__(self, radius):\n",
        "    self.radius = radius\n",
        "\n",
        "  def get_area(self):\n",
        "    return math.pi * self.radius ** 2\n",
        "\n",
        "triangle = Triangle(1, 2)\n",
        "circle = Circle(3)\n",
        "\n",
        "total_area = triangle + circle\n",
        "print(\"Total area: \", total_area)"
      ],
      "metadata": {
        "id": "H3GVNr69Muf3",
        "colab": {
          "base_uri": "https://localhost:8080/"
        },
        "outputId": "e7b4f16a-0e14-4fe2-a2da-8ff127146ec5"
      },
      "execution_count": 13,
      "outputs": [
        {
          "output_type": "stream",
          "name": "stdout",
          "text": [
            "Total area:  29.274333882308138\n"
          ]
        }
      ]
    },
    {
      "cell_type": "markdown",
      "source": [
        "7. (3б). Продемонструйте різницю між isinstance та issubclass."
      ],
      "metadata": {
        "id": "HCvR206YMvLK"
      }
    },
    {
      "cell_type": "code",
      "source": [
        "print(isinstance(triangle, Triangle)) #is object triangle of class Triangle\n",
        "\n",
        "print(issubclass(Triangle, Figure)) #is class Triangle subclass of class Figure\n",
        "\n",
        "print(issubclass(Figure, Triangle)) #is class Figure subclass of class Triangle\n"
      ],
      "metadata": {
        "id": "L_V1bBvDM0GN",
        "colab": {
          "base_uri": "https://localhost:8080/"
        },
        "outputId": "11b756df-b7e4-4798-84be-7c2a2e0c42d8"
      },
      "execution_count": 16,
      "outputs": [
        {
          "output_type": "stream",
          "name": "stdout",
          "text": [
            "True\n",
            "True\n",
            "False\n"
          ]
        }
      ]
    },
    {
      "cell_type": "markdown",
      "source": [
        "8. (13б). Створіть клас BankAccount з приватними атрибутами balance та account_number. Реалізуйте методи поповнення та зняття коштів, забезпечивши належну інкапсуляцію. Підказка: використовуйте декоратори property та setter."
      ],
      "metadata": {
        "id": "jjsaBZ-iM0Qq"
      }
    },
    {
      "cell_type": "code",
      "source": [
        "class BankAccount:\n",
        "  def __init__(self, balance, account_number):\n",
        "    self._balance = balance\n",
        "    self._account_number = account_number\n",
        "\n",
        "  @property\n",
        "  def balance(self):\n",
        "    return self._balance\n",
        "\n",
        "  @property\n",
        "  def account_number(self):\n",
        "    return self._account_number\n",
        "\n",
        "  @balance.setter\n",
        "  def balance(self, new_balance):\n",
        "    if new_balance >= 0:\n",
        "      self._balance = new_balance\n",
        "    else:\n",
        "      print(\"Error: Balance cannot be negative.\")\n",
        "\n",
        "  def deposit(self, amount):\n",
        "    if amount > 0:\n",
        "      self._balance += amount\n",
        "      print(f\"Deposited {amount} into account {self._account_number}. New balance: {self._balance}\")\n",
        "    else:\n",
        "      print(\"Error: Deposit cannot be negative.\")\n",
        "\n",
        "  def withdraw(self, amount):\n",
        "    if 0 < amount <= self._balance:\n",
        "      self._balance -= amount\n",
        "      print(f\"Withdrew {amount} from account {self._account_number}. New balance: {self._balance}\")\n",
        "    else:\n",
        "      print(\"Error!\")"
      ],
      "metadata": {
        "id": "xCvZ7lh8M7YA"
      },
      "execution_count": 18,
      "outputs": []
    },
    {
      "cell_type": "markdown",
      "source": [
        "9. (11б). Створіть клас Library, який містить список об'єктів типу Book. Реалізуйте методи для додавання книги, видалення книги та відображення списку книг."
      ],
      "metadata": {
        "id": "tIzL2SJTM8ft"
      }
    },
    {
      "cell_type": "code",
      "source": [
        "class Book:\n",
        "  def __init__(self, title, author):\n",
        "    self.title = title\n",
        "    self.author = author\n",
        "\n",
        "class Library:\n",
        "  def __init__(self):\n",
        "    self.books = []\n",
        "\n",
        "  def add_book(self, book):\n",
        "    self.books.append(book)\n",
        "\n",
        "  def remove_book(self, title):\n",
        "    for book in self.books:\n",
        "      if book.title == title:\n",
        "        self.books.remove(book)\n",
        "\n",
        "  def display_books(self):\n",
        "    if self.books:\n",
        "      print(\"Books in the library:\")\n",
        "      for book in self.books:\n",
        "        print(f\"- {book.title} by {book.author}\")\n",
        "    else:\n",
        "      print(\"The library is empty.\")"
      ],
      "metadata": {
        "id": "HWxfJKLtNAUZ"
      },
      "execution_count": null,
      "outputs": []
    },
    {
      "cell_type": "markdown",
      "source": [
        "10. (13б). Створіть клас Person з атрибутами name та age. Створіть ще один клас Employee з такими атрибутами, як department та salary. Створіть клас Manager, який успадковує обидва класи Person та Employee. Продемонструйте використання множинної спадковості, створивши обʼєкт класу Manager та отримавши mro для цього класу."
      ],
      "metadata": {
        "id": "lmV8pAwwNIqu"
      }
    },
    {
      "cell_type": "code",
      "source": [
        "class Person:\n",
        "  def __init__(self, name, age):\n",
        "    self.name = name\n",
        "    self.age = age\n",
        "\n",
        "class Employee:\n",
        "  def __init__(self, department, salary):\n",
        "    self.department = department\n",
        "    self.salary = salary\n",
        "\n",
        "class Manager(Person, Employee):\n",
        "  def __init__(self, name, age, department, salary):\n",
        "    Person.__init__(self, name, age)\n",
        "    Employee.__init__(self, department, salary)\n",
        "\n",
        "manager = Manager(\"John Doe\", 40, \"IT\", 60000)\n",
        "\n",
        "print(\"Method Resolution Order (MRO):\", Manager.mro())"
      ],
      "metadata": {
        "id": "R49grKlWNPeN",
        "colab": {
          "base_uri": "https://localhost:8080/"
        },
        "outputId": "e0c665d1-e63a-4eda-da20-7ca3004a89c1"
      },
      "execution_count": 19,
      "outputs": [
        {
          "output_type": "stream",
          "name": "stdout",
          "text": [
            "Method Resolution Order (MRO): [<class '__main__.Manager'>, <class '__main__.Person'>, <class '__main__.Employee'>, <class 'object'>]\n"
          ]
        }
      ]
    },
    {
      "cell_type": "markdown",
      "source": [
        "# II. Iterator"
      ],
      "metadata": {
        "id": "dIJyUiNBFG8G"
      }
    },
    {
      "cell_type": "markdown",
      "source": [
        "11. (4б). Визначте рядок(str) з 4ма різними за значенням символами. Створіть ітератор на основі цього рядка. Викличте 5 разів функцію next на ітераторі, 4ри перших з них огорніть у ф-цію print()."
      ],
      "metadata": {
        "id": "13vsm0NyKIzL"
      }
    },
    {
      "cell_type": "code",
      "source": [
        "string_a = \"abcd\"\n",
        "\n",
        "iterator_a = iter(string_a)\n",
        "\n",
        "for _ in range(4):\n",
        "    print(next(iterator_a))\n",
        "\n",
        "next(iterator_a)\n"
      ],
      "metadata": {
        "id": "81ntabAkKuz-",
        "colab": {
          "base_uri": "https://localhost:8080/",
          "height": 257
        },
        "outputId": "c46ae0b7-4784-4d61-e148-79f082c009b9"
      },
      "execution_count": 20,
      "outputs": [
        {
          "output_type": "stream",
          "name": "stdout",
          "text": [
            "a\n",
            "b\n",
            "c\n",
            "d\n"
          ]
        },
        {
          "output_type": "error",
          "ename": "StopIteration",
          "evalue": "",
          "traceback": [
            "\u001b[0;31m---------------------------------------------------------------------------\u001b[0m",
            "\u001b[0;31mStopIteration\u001b[0m                             Traceback (most recent call last)",
            "\u001b[0;32m<ipython-input-20-e340b0838465>\u001b[0m in \u001b[0;36m<cell line: 8>\u001b[0;34m()\u001b[0m\n\u001b[1;32m      6\u001b[0m     \u001b[0mprint\u001b[0m\u001b[0;34m(\u001b[0m\u001b[0mnext\u001b[0m\u001b[0;34m(\u001b[0m\u001b[0miterator_a\u001b[0m\u001b[0;34m)\u001b[0m\u001b[0;34m)\u001b[0m\u001b[0;34m\u001b[0m\u001b[0;34m\u001b[0m\u001b[0m\n\u001b[1;32m      7\u001b[0m \u001b[0;34m\u001b[0m\u001b[0m\n\u001b[0;32m----> 8\u001b[0;31m \u001b[0mnext\u001b[0m\u001b[0;34m(\u001b[0m\u001b[0miterator_a\u001b[0m\u001b[0;34m)\u001b[0m\u001b[0;34m\u001b[0m\u001b[0;34m\u001b[0m\u001b[0m\n\u001b[0m",
            "\u001b[0;31mStopIteration\u001b[0m: "
          ]
        }
      ]
    },
    {
      "cell_type": "markdown",
      "source": [
        "А що якщо викликати цю ж функцію на рядку?"
      ],
      "metadata": {
        "id": "aekWHGXOLRsO"
      }
    },
    {
      "cell_type": "code",
      "source": [
        "string_a.next()"
      ],
      "metadata": {
        "id": "mxATGsErLV1i",
        "colab": {
          "base_uri": "https://localhost:8080/",
          "height": 147
        },
        "outputId": "d139c645-e004-4fb7-ebea-4c538edeaaae"
      },
      "execution_count": 21,
      "outputs": [
        {
          "output_type": "error",
          "ename": "AttributeError",
          "evalue": "'str' object has no attribute 'next'",
          "traceback": [
            "\u001b[0;31m---------------------------------------------------------------------------\u001b[0m",
            "\u001b[0;31mAttributeError\u001b[0m                            Traceback (most recent call last)",
            "\u001b[0;32m<ipython-input-21-c0a8ac9dceca>\u001b[0m in \u001b[0;36m<cell line: 1>\u001b[0;34m()\u001b[0m\n\u001b[0;32m----> 1\u001b[0;31m \u001b[0mstring_a\u001b[0m\u001b[0;34m.\u001b[0m\u001b[0mnext\u001b[0m\u001b[0;34m(\u001b[0m\u001b[0;34m)\u001b[0m\u001b[0;34m\u001b[0m\u001b[0;34m\u001b[0m\u001b[0m\n\u001b[0m",
            "\u001b[0;31mAttributeError\u001b[0m: 'str' object has no attribute 'next'"
          ]
        }
      ]
    },
    {
      "cell_type": "markdown",
      "source": [
        " 12. (5б). Опишіть своїми словами в одному реченні, як ви розумієте різницю між ітерабельними обʼєктами та ітераторами (можна на прикладі)."
      ],
      "metadata": {
        "id": "XwtMEopwJ4pH"
      }
    },
    {
      "cell_type": "markdown",
      "source": [
        "Ітерабельні об'єкти - обʼєкти, які можна перебирати по елементам за допомогою циклу або використовуючи ітератор.\n",
        "\n",
        "Ітератори - це об'єкти, які забезпечують послідовний доступ до елементів ітерабельного об'єкта."
      ],
      "metadata": {
        "id": "-sHrODc3KFn8"
      }
    },
    {
      "cell_type": "markdown",
      "source": [
        "13. (11б). Створіть клас, що має визначений Iterator Protocol та при кожному виклику next повертає літери англійської абетки, поки вони не вичерпаються."
      ],
      "metadata": {
        "id": "E9qJWmNbK8Gl"
      }
    },
    {
      "cell_type": "code",
      "source": [
        "class AlphabetIterator:\n",
        "  def __init__(self):\n",
        "    self.current_letter = ord('a') - 1\n",
        "\n",
        "  def __iter__(self):\n",
        "    return self\n",
        "\n",
        "  def __next__(self):\n",
        "    self.current_letter += 1\n",
        "    if self.current_letter <= ord('z'):\n",
        "      return chr(self.current_letter)\n",
        "    else:\n",
        "      raise StopIteration\n",
        "\n",
        "iterator = AlphabetIterator()\n",
        "\n",
        "for _ in range(26):\n",
        "    print(next(iterator))\n"
      ],
      "metadata": {
        "id": "cqx-g_RsLo6I",
        "colab": {
          "base_uri": "https://localhost:8080/"
        },
        "outputId": "3b12633c-468a-4b16-9f3d-c92bfcbebd23"
      },
      "execution_count": 22,
      "outputs": [
        {
          "output_type": "stream",
          "name": "stdout",
          "text": [
            "a\n",
            "b\n",
            "c\n",
            "d\n",
            "e\n",
            "f\n",
            "g\n",
            "h\n",
            "i\n",
            "j\n",
            "k\n",
            "l\n",
            "m\n",
            "n\n",
            "o\n",
            "p\n",
            "q\n",
            "r\n",
            "s\n",
            "t\n",
            "u\n",
            "v\n",
            "w\n",
            "x\n",
            "y\n",
            "z\n"
          ]
        }
      ]
    },
    {
      "cell_type": "markdown",
      "source": [
        "# Вітаю! Ви велика(ий) молодець, що впоралась(вся). Похваліть себе та побалуйте чимось приємним. Я Вами пишаюся."
      ],
      "metadata": {
        "id": "Z3E3S_s1Fv7-"
      }
    }
  ]
}